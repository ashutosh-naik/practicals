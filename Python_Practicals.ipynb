{
  "nbformat": 4,
  "nbformat_minor": 0,
  "metadata": {
    "colab": {
      "provenance": [],
      "authorship_tag": "ABX9TyPsuozydpBlM5eEwu/i+BKk",
      "include_colab_link": true
    },
    "kernelspec": {
      "name": "python3",
      "display_name": "Python 3"
    },
    "language_info": {
      "name": "python"
    }
  },
  "cells": [
    {
      "cell_type": "markdown",
      "metadata": {
        "id": "view-in-github",
        "colab_type": "text"
      },
      "source": [
        "<a href=\"https://colab.research.google.com/github/ashutosh-naik/practicals/blob/main/Python_Practicals.ipynb\" target=\"_parent\"><img src=\"https://colab.research.google.com/assets/colab-badge.svg\" alt=\"Open In Colab\"/></a>"
      ]
    },
    {
      "cell_type": "code",
      "execution_count": 27,
      "metadata": {
        "colab": {
          "base_uri": "https://localhost:8080/"
        },
        "id": "6WdUsNPu3aR_",
        "outputId": "128c183f-273d-4abc-afc9-1566eb7d7c63"
      },
      "outputs": [
        {
          "output_type": "stream",
          "name": "stdout",
          "text": [
            "Enter a number: 10\n",
            "The factorial of 10 is 3628800\n"
          ]
        }
      ],
      "source": [
        "# Write a python program to find the factorial of a number using recursive function.\n",
        "\n",
        "def factorial(n):\n",
        "    if n == 0 or n == 1:\n",
        "        return 1\n",
        "    return n * factorial(n - 1)\n",
        "\n",
        "num = int(input(\"Enter a number: \"))\n",
        "\n",
        "if num < 0:\n",
        "    print(\"Factorial is not defined for negative numbers.\")\n",
        "else:\n",
        "    print(f\"The factorial of {num} is {factorial(num)}\")"
      ]
    },
    {
      "cell_type": "code",
      "source": [
        "# Write a Python function or sum of squares of the first ‘n’ natural number.\n",
        "\n",
        "def sum_of_squares(n):\n",
        "    total = 0\n",
        "    for i in range(1, n + 1):\n",
        "        total += i ** 2\n",
        "    return total\n",
        "\n",
        "num = int(input(\"Enter a number: \"))\n",
        "\n",
        "if num < 1:\n",
        "    print(\"Please enter a positive number.\")\n",
        "else:\n",
        "    print(f\"The sum of squares of the first {num} natural numbers is {sum_of_squares(num)}\")"
      ],
      "metadata": {
        "colab": {
          "base_uri": "https://localhost:8080/"
        },
        "id": "mBrXiYR67ObB",
        "outputId": "75aa4282-324c-4377-d8e5-765520ebf336"
      },
      "execution_count": 28,
      "outputs": [
        {
          "output_type": "stream",
          "name": "stdout",
          "text": [
            "Enter a number: 5\n",
            "The sum of squares of the first 5 natural numbers is 55\n"
          ]
        }
      ]
    },
    {
      "cell_type": "code",
      "source": [
        "# Write a function average() which will return the average of the numbers inputted by the user.\n",
        "\n",
        "def average():\n",
        "    numbers = input(\"Enter numbers separated by spaces: \").split()\n",
        "\n",
        "    numbers = [float(num) for num in numbers]\n",
        "\n",
        "    avg = sum(numbers) / len(numbers) if numbers else 0\n",
        "\n",
        "    return avg\n",
        "\n",
        "print(f\"The average is: {average()}\")"
      ],
      "metadata": {
        "colab": {
          "base_uri": "https://localhost:8080/"
        },
        "id": "Hoidtoh58y_f",
        "outputId": "dfd644ba-d54d-4aac-bed2-b3a778ef6325"
      },
      "execution_count": 29,
      "outputs": [
        {
          "output_type": "stream",
          "name": "stdout",
          "text": [
            "Enter numbers separated by spaces: 7 5 8\n",
            "The average is: 6.666666666666667\n"
          ]
        }
      ]
    },
    {
      "cell_type": "code",
      "source": [
        "# Write a Python code to iterate the first n numbers, and in each iteration, print the sum of the current and previous numbers.\n",
        "\n",
        "def sum_of_current_and_previous(n):\n",
        "    previous = 0\n",
        "    for current in range(n):\n",
        "        total = current + previous\n",
        "        print(f\"Current: {current}, Previous: {previous}, Sum: {total}\")\n",
        "        previous = current\n",
        "\n",
        "num = int(input(\"Enter the number of iterations: \"))\n",
        "\n",
        "if num < 1:\n",
        "    print(\"Please enter a positive number.\")\n",
        "else:\n",
        "    sum_of_current_and_previous(num)"
      ],
      "metadata": {
        "colab": {
          "base_uri": "https://localhost:8080/"
        },
        "id": "1wwM-Odh-A_u",
        "outputId": "ded16126-6132-4e9f-bee2-6317816592a6"
      },
      "execution_count": 30,
      "outputs": [
        {
          "output_type": "stream",
          "name": "stdout",
          "text": [
            "Enter the number of iterations: 10\n",
            "Current: 0, Previous: 0, Sum: 0\n",
            "Current: 1, Previous: 0, Sum: 1\n",
            "Current: 2, Previous: 1, Sum: 3\n",
            "Current: 3, Previous: 2, Sum: 5\n",
            "Current: 4, Previous: 3, Sum: 7\n",
            "Current: 5, Previous: 4, Sum: 9\n",
            "Current: 6, Previous: 5, Sum: 11\n",
            "Current: 7, Previous: 6, Sum: 13\n",
            "Current: 8, Previous: 7, Sum: 15\n",
            "Current: 9, Previous: 8, Sum: 17\n"
          ]
        }
      ]
    },
    {
      "cell_type": "code",
      "source": [
        "# Write a python program to demonstrate the lambda function.\n",
        "\n",
        "square = lambda x: x ** 2\n",
        "\n",
        "add = lambda a, b: a + b\n",
        "\n",
        "num = int(input(\"Enter a number to find its square: \"))\n",
        "print(f\"The square of {num} is {square(num)}\")\n",
        "\n",
        "a = int(input(\"Enter the first number to add: \"))\n",
        "b = int(input(\"Enter the second number to add: \"))\n",
        "print(f\"The sum of {a} and {b} is {add(a, b)}\")"
      ],
      "metadata": {
        "colab": {
          "base_uri": "https://localhost:8080/"
        },
        "id": "ZWCrU2m_-v29",
        "outputId": "a377eccb-e968-4108-c92a-750e91e9ff1d"
      },
      "execution_count": 31,
      "outputs": [
        {
          "output_type": "stream",
          "name": "stdout",
          "text": [
            "Enter a number to find its square: 7\n",
            "The square of 7 is 49\n",
            "Enter the first number to add: 5\n",
            "Enter the second number to add: 6\n",
            "The sum of 5 and 6 is 11\n"
          ]
        }
      ]
    },
    {
      "cell_type": "code",
      "source": [
        "# Write a Python function to check whether the given number is prime or not.\n",
        "\n",
        "def is_prime(number):\n",
        "    if number <= 1:\n",
        "        return False\n",
        "    for i in range(2, int(number**0.5) + 1):\n",
        "        if number % i == 0:\n",
        "            return False\n",
        "    return True\n",
        "\n",
        "num = int(input(\"Enter a number: \"))\n",
        "if is_prime(num):\n",
        "    print(f\"{num} is a prime number.\")\n",
        "else:\n",
        "    print(f\"{num} is not a prime number.\")"
      ],
      "metadata": {
        "colab": {
          "base_uri": "https://localhost:8080/"
        },
        "id": "LZgS838e_TLV",
        "outputId": "0a52280f-7220-4fa8-9e4c-1e8a4ff37747"
      },
      "execution_count": 32,
      "outputs": [
        {
          "output_type": "stream",
          "name": "stdout",
          "text": [
            "Enter a number: 5\n",
            "5 is a prime number.\n"
          ]
        }
      ]
    },
    {
      "cell_type": "code",
      "source": [
        "# Write a program that accepts the string from the user and displays the same string after removing vowels from it.\n",
        "\n",
        "def remove_vowels(input_string):\n",
        "    vowels = \"aeiouAEIOU\"\n",
        "    result = \"\"\n",
        "    for char in input_string:\n",
        "        if char not in vowels:\n",
        "            result += char\n",
        "    return result\n",
        "\n",
        "user_input = input(\"Enter a string: \")\n",
        "\n",
        "output_string = remove_vowels(user_input)\n",
        "\n",
        "print(\"String after removing vowels:\", output_string)"
      ],
      "metadata": {
        "colab": {
          "base_uri": "https://localhost:8080/"
        },
        "id": "Fyxrd3JD_sQ8",
        "outputId": "86aa2e78-fe00-4d4f-b7a2-a870e80f1b78"
      },
      "execution_count": 33,
      "outputs": [
        {
          "output_type": "stream",
          "name": "stdout",
          "text": [
            "Enter a string: Fatema\n",
            "String after removing vowels: Ftm\n"
          ]
        }
      ]
    },
    {
      "cell_type": "code",
      "source": [
        "# Write a Python code to accept a string from the user and display characters present at an even index number.\n",
        "\n",
        "def even_index_characters(input_string):\n",
        "    result = \"\"\n",
        "    for i in range(len(input_string)):\n",
        "        if i % 2 == 0:\n",
        "            result += input_string[i]\n",
        "    return result\n",
        "\n",
        "user_input = input(\"Enter a string: \")\n",
        "\n",
        "output_string = even_index_characters(user_input)\n",
        "print(\"Characters at even index positions:\", output_string)"
      ],
      "metadata": {
        "colab": {
          "base_uri": "https://localhost:8080/"
        },
        "id": "V0nZUWCp_uL_",
        "outputId": "fc487787-ecad-4974-beb6-f4f9b12bdc8b"
      },
      "execution_count": 34,
      "outputs": [
        {
          "output_type": "stream",
          "name": "stdout",
          "text": [
            "Enter a string: Ashutosh\n",
            "Characters at even index positions: Ahts\n"
          ]
        }
      ]
    },
    {
      "cell_type": "code",
      "source": [
        "# Write a Python program to demonstrate global and nonlocal keywords using function.\n",
        "\n",
        "global_variable = \"I am a global variable\"\n",
        "\n",
        "def use_global():\n",
        "    global global_variable\n",
        "    global_variable = \"I have been changed globally\"\n",
        "\n",
        "def outer_function():\n",
        "    outer_variable = \"I am in the outer function\"\n",
        "\n",
        "    def inner_function():\n",
        "        nonlocal outer_variable\n",
        "        outer_variable = \"I have been changed in the inner function\"\n",
        "\n",
        "    inner_function()\n",
        "    return outer_variable\n",
        "\n",
        "print(\"Before using global:\", global_variable)\n",
        "use_global()\n",
        "print(\"After using global:\", global_variable)\n",
        "\n",
        "result = outer_function()\n",
        "print(\"After using nonlocal:\", result)"
      ],
      "metadata": {
        "colab": {
          "base_uri": "https://localhost:8080/"
        },
        "id": "LdEbrjTbADka",
        "outputId": "06bf0bdd-f364-4a9b-94b9-5dc4d23aaf0b"
      },
      "execution_count": 35,
      "outputs": [
        {
          "output_type": "stream",
          "name": "stdout",
          "text": [
            "Before using global: I am a global variable\n",
            "After using global: I have been changed globally\n",
            "After using nonlocal: I have been changed in the inner function\n"
          ]
        }
      ]
    },
    {
      "cell_type": "code",
      "source": [
        "# Write a Python program to demonstrate the need of thread synchronization.\n",
        "\n",
        "import threading\n",
        "\n",
        "counter = 0\n",
        "\n",
        "def increment():\n",
        "    global counter\n",
        "    for _ in range(100000):\n",
        "        counter += 1\n",
        "\n",
        "def without_sync():\n",
        "    global counter\n",
        "    threads = []\n",
        "    for _ in range(5):\n",
        "        thread = threading.Thread(target=increment)\n",
        "        threads.append(thread)\n",
        "        thread.start()\n",
        "\n",
        "    for thread in threads:\n",
        "        thread.join()\n",
        "\n",
        "    print(f\"Counter without synchronization: {counter}\")\n",
        "\n",
        "lock = threading.Lock()\n",
        "\n",
        "def increment_with_lock():\n",
        "    global counter\n",
        "    for _ in range(100000):\n",
        "        with lock:\n",
        "            counter += 1\n",
        "\n",
        "def with_sync():\n",
        "    global counter\n",
        "    threads = []\n",
        "    for _ in range(5):\n",
        "        thread = threading.Thread(target=increment_with_lock)\n",
        "        threads.append(thread)\n",
        "        thread.start()\n",
        "\n",
        "    for thread in threads:\n",
        "        thread.join()\n",
        "\n",
        "    print(f\"Counter with synchronization: {counter}\")\n",
        "\n",
        "counter = 0\n",
        "without_sync()\n",
        "counter = 0\n",
        "with_sync()"
      ],
      "metadata": {
        "colab": {
          "base_uri": "https://localhost:8080/"
        },
        "id": "tp3yNO2UAwCs",
        "outputId": "62795f2a-d709-43c4-896c-d5b4698ad464"
      },
      "execution_count": 36,
      "outputs": [
        {
          "output_type": "stream",
          "name": "stdout",
          "text": [
            "Counter without synchronization: 500000\n",
            "Counter with synchronization: 500000\n"
          ]
        }
      ]
    },
    {
      "cell_type": "code",
      "source": [
        "# Write a Python program to check if a URL is valid or not using regular expressions.\n",
        "\n",
        "import re\n",
        "\n",
        "def is_valid_url(url):\n",
        "    pattern = r'^(https?://)?([a-zA-Z0-9-]+\\.)+[a-zA-Z]{2,6}(/[\\w-]*)*$'\n",
        "\n",
        "    if re.match(pattern, url):\n",
        "        return True\n",
        "    else:\n",
        "        return False\n",
        "\n",
        "url = input(\"Enter a URL: \")\n",
        "\n",
        "if is_valid_url(url):\n",
        "    print(\"The URL is valid.\")\n",
        "else:\n",
        "    print(\"The URL is not valid.\")"
      ],
      "metadata": {
        "colab": {
          "base_uri": "https://localhost:8080/"
        },
        "id": "vgfhaIN0CMs0",
        "outputId": "2a22a3c1-0e76-411a-9e48-9715efe2539c"
      },
      "execution_count": 37,
      "outputs": [
        {
          "output_type": "stream",
          "name": "stdout",
          "text": [
            "Enter a URL: https://www.google.com/\n",
            "The URL is valid.\n"
          ]
        }
      ]
    },
    {
      "cell_type": "code",
      "source": [
        "# Write a Python program to handle multiple exceptions.\n",
        "\n",
        "def handle_exceptions():\n",
        "    try:\n",
        "        num1 = int(input(\"Enter the first number: \"))\n",
        "        num2 = int(input(\"Enter the second number: \"))\n",
        "\n",
        "        result = num1 / num2\n",
        "        print(f\"Result of division: {result}\")\n",
        "\n",
        "    except ValueError:\n",
        "        print(\"Error: Please enter valid integers.\")\n",
        "\n",
        "    except ZeroDivisionError:\n",
        "        print(\"Error: Cannot divide by zero.\")\n",
        "\n",
        "    except Exception as e:\n",
        "        print(f\"An unexpected error occurred: {e}\")\n",
        "\n",
        "handle_exceptions()"
      ],
      "metadata": {
        "colab": {
          "base_uri": "https://localhost:8080/"
        },
        "id": "UggULYRyClGy",
        "outputId": "0f463177-f70d-4f3b-f5b7-931e63b4db45"
      },
      "execution_count": 38,
      "outputs": [
        {
          "output_type": "stream",
          "name": "stdout",
          "text": [
            "Enter the first number: 5\n",
            "Enter the second number: 8\n",
            "Result of division: 0.625\n"
          ]
        }
      ]
    },
    {
      "cell_type": "code",
      "source": [
        "# Write a Python program to demonstrate the Fibonacci series using the yield keyword.\n",
        "\n",
        "def fibonacci(n):\n",
        "    a, b = 0, 1\n",
        "    for _ in range(n):\n",
        "        yield a\n",
        "        a, b = b, a + b\n",
        "\n",
        "n = int(input(\"Enter the number of terms in the Fibonacci series: \"))\n",
        "\n",
        "print(\"Fibonacci series:\")\n",
        "for num in fibonacci(n):\n",
        "    print(num, end=\" \")"
      ],
      "metadata": {
        "colab": {
          "base_uri": "https://localhost:8080/"
        },
        "id": "_U3SPZymCuA8",
        "outputId": "2059983a-4cb5-4de5-8eca-5a7f5b60658c"
      },
      "execution_count": 39,
      "outputs": [
        {
          "output_type": "stream",
          "name": "stdout",
          "text": [
            "Enter the number of terms in the Fibonacci series: 11\n",
            "Fibonacci series:\n",
            "0 1 1 2 3 5 8 13 21 34 55 "
          ]
        }
      ]
    },
    {
      "cell_type": "code",
      "source": [
        "# Write a python program to merge the two dictionaries\n",
        "\n",
        "def merge_dictionaries(dict1, dict2):\n",
        "    merged_dict = dict1.copy()\n",
        "    merged_dict.update(dict2)\n",
        "    return merged_dict\n",
        "\n",
        "dict1 = {'a': 1, 'b': 2}\n",
        "dict2 = {'c': 3, 'd': 4}\n",
        "\n",
        "result = merge_dictionaries(dict1, dict2)\n",
        "\n",
        "print(\"Merged Dictionary:\", result)"
      ],
      "metadata": {
        "colab": {
          "base_uri": "https://localhost:8080/"
        },
        "id": "UEPSEEsVLj-L",
        "outputId": "607b0269-7832-409f-eb28-2895c8f20371"
      },
      "execution_count": 40,
      "outputs": [
        {
          "output_type": "stream",
          "name": "stdout",
          "text": [
            "Merged Dictionary: {'a': 1, 'b': 2, 'c': 3, 'd': 4}\n"
          ]
        }
      ]
    },
    {
      "cell_type": "code",
      "source": [
        "# Write a code to return True if the list’s first and last numbers are the same. If the numbers are different, return False.\n",
        "\n",
        "def check_first_last(numbers):\n",
        "    if len(numbers) < 1:\n",
        "        return False\n",
        "    return numbers[0] == numbers[-1]\n",
        "\n",
        "example_list = [1, 2, 3, 4, 1]\n",
        "\n",
        "result = check_first_last(example_list)\n",
        "print(\"Are the first and last numbers the same?\", result)"
      ],
      "metadata": {
        "colab": {
          "base_uri": "https://localhost:8080/"
        },
        "id": "GxKpwwJDLpZ7",
        "outputId": "f5703953-010d-4f1a-8dbf-50da76f370f8"
      },
      "execution_count": 41,
      "outputs": [
        {
          "output_type": "stream",
          "name": "stdout",
          "text": [
            "Are the first and last numbers the same? True\n"
          ]
        }
      ]
    },
    {
      "cell_type": "code",
      "source": [
        "# Write a Python code to display numbers from a tuple divisible by 5\n",
        "\n",
        "def divisible_by_5(numbers):\n",
        "    result = [num for num in numbers if num % 5 == 0]\n",
        "    return result\n",
        "\n",
        "example_tuple = (10, 23, 45, 66, 75, 90, 21)\n",
        "\n",
        "result = divisible_by_5(example_tuple)\n",
        "print(\"Numbers divisible by 5:\", result)"
      ],
      "metadata": {
        "colab": {
          "base_uri": "https://localhost:8080/"
        },
        "id": "NqFd0VtJMR2y",
        "outputId": "1080b8c7-c22b-4876-94ee-0d48fe1579db"
      },
      "execution_count": 42,
      "outputs": [
        {
          "output_type": "stream",
          "name": "stdout",
          "text": [
            "Numbers divisible by 5: [10, 45, 75, 90]\n"
          ]
        }
      ]
    },
    {
      "cell_type": "code",
      "source": [
        "# Write a Python program to demonstrate comprehension of list, tuple, set, and dict.\n",
        "\n",
        "list_comp = [x**2 for x in range(1, 6)]\n",
        "print(\"List Comprehension:\", list_comp)\n",
        "\n",
        "tuple_comp = tuple(x**2 for x in range(1, 6))\n",
        "print(\"Tuple Comprehension:\", tuple_comp)\n",
        "\n",
        "set_comp = {x**2 for x in range(1, 6)}\n",
        "print(\"Set Comprehension:\", set_comp)\n",
        "\n",
        "dict_comp = {x: x**2 for x in range(1, 6)}\n",
        "print(\"Dictionary Comprehension:\", dict_comp)"
      ],
      "metadata": {
        "colab": {
          "base_uri": "https://localhost:8080/"
        },
        "id": "NmofL-vWMsK7",
        "outputId": "be14b247-39c2-41df-8dd4-8a5c66be1911"
      },
      "execution_count": 43,
      "outputs": [
        {
          "output_type": "stream",
          "name": "stdout",
          "text": [
            "List Comprehension: [1, 4, 9, 16, 25]\n",
            "Tuple Comprehension: (1, 4, 9, 16, 25)\n",
            "Set Comprehension: {1, 4, 9, 16, 25}\n",
            "Dictionary Comprehension: {1: 1, 2: 4, 3: 9, 4: 16, 5: 25}\n"
          ]
        }
      ]
    },
    {
      "cell_type": "code",
      "source": [
        "# Write a Python program to demonstrate collection types list, tuple, set, and dict.\n",
        "\n",
        "my_list = [1, 2, 3, 4, 5, 2]\n",
        "print(\"List:\", my_list)\n",
        "\n",
        "print(\"First element of the list:\", my_list[0])\n",
        "\n",
        "my_tuple = (1, 2, 3, 4, 5, 2)\n",
        "print(\"Tuple:\", my_tuple)\n",
        "\n",
        "print(\"First element of the tuple:\", my_tuple[0])\n",
        "\n",
        "my_set = {1, 2, 3, 4, 5, 2}\n",
        "print(\"Set:\", my_set)\n",
        "\n",
        "my_set.add(6)\n",
        "print(\"Set after adding an element:\", my_set)\n",
        "\n",
        "my_dict = {\"a\": 1, \"b\": 2, \"c\": 3}\n",
        "print(\"Dictionary:\", my_dict)\n",
        "\n",
        "print(\"Value associated with key 'a':\", my_dict[\"a\"])"
      ],
      "metadata": {
        "colab": {
          "base_uri": "https://localhost:8080/"
        },
        "id": "qk9WtepnNCpB",
        "outputId": "9a6d7c58-8dfa-49dd-bc66-e256b4bfdb39"
      },
      "execution_count": 44,
      "outputs": [
        {
          "output_type": "stream",
          "name": "stdout",
          "text": [
            "List: [1, 2, 3, 4, 5, 2]\n",
            "First element of the list: 1\n",
            "Tuple: (1, 2, 3, 4, 5, 2)\n",
            "First element of the tuple: 1\n",
            "Set: {1, 2, 3, 4, 5}\n",
            "Set after adding an element: {1, 2, 3, 4, 5, 6}\n",
            "Dictionary: {'a': 1, 'b': 2, 'c': 3}\n",
            "Value associated with key 'a': 1\n"
          ]
        }
      ]
    },
    {
      "cell_type": "code",
      "source": [
        "# Write a python program to handle custom exceptions.\n",
        "\n",
        "class CustomError(Exception):\n",
        "    def __init__(self, message):\n",
        "        super().__init__(message)\n",
        "\n",
        "def check_value(value):\n",
        "    if value < 0:\n",
        "        raise CustomError(\"Value cannot be negative!\")\n",
        "    else:\n",
        "        print(\"The value is valid:\", value)\n",
        "\n",
        "try:\n",
        "    num = int(input(\"Enter a number: \"))\n",
        "    check_value(num)\n",
        "except CustomError as e:\n",
        "    print(\"CustomError occurred:\", e)\n",
        "except ValueError:\n",
        "    print(\"Please enter a valid integer!\")\n",
        "finally:\n",
        "    print(\"Program execution completed.\")"
      ],
      "metadata": {
        "colab": {
          "base_uri": "https://localhost:8080/"
        },
        "id": "48lpDhUVOozY",
        "outputId": "7759b5be-93b9-41bb-b097-92740b1e04ac"
      },
      "execution_count": 45,
      "outputs": [
        {
          "output_type": "stream",
          "name": "stdout",
          "text": [
            "Enter a number: 7\n",
            "The value is valid: 7\n",
            "Program execution completed.\n"
          ]
        }
      ]
    },
    {
      "cell_type": "code",
      "source": [
        "# Write a Python program to demonstrate a single-tasking handle by one thread.\n",
        "\n",
        "import threading\n",
        "import time\n",
        "\n",
        "def print_numbers():\n",
        "    for i in range(1, 6):\n",
        "        print(f\"Number: {i}\")\n",
        "        time.sleep(1)\n",
        "\n",
        "task_thread = threading.Thread(target=print_numbers)\n",
        "\n",
        "print(\"Starting the single-task thread...\")\n",
        "task_thread.start()\n",
        "\n",
        "task_thread.join()\n",
        "print(\"Single-task thread completed.\")"
      ],
      "metadata": {
        "colab": {
          "base_uri": "https://localhost:8080/"
        },
        "id": "yWatjv3VPBre",
        "outputId": "ead522d6-c5ac-488d-f17a-421caa81bbe6"
      },
      "execution_count": 46,
      "outputs": [
        {
          "output_type": "stream",
          "name": "stdout",
          "text": [
            "Starting the single-task thread...\n",
            "Number: 1\n",
            "Number: 2\n",
            "Number: 3\n",
            "Number: 4\n",
            "Number: 5\n",
            "Single-task thread completed.\n"
          ]
        }
      ]
    },
    {
      "cell_type": "code",
      "source": [
        "# Write a Python program to check whether an n-digit integer is an Armstrong number or not.\n",
        "\n",
        "def is_armstrong(number):\n",
        "    num_str = str(number)\n",
        "    n = len(num_str)\n",
        "\n",
        "    armstrong_sum = sum(int(digit) ** n for digit in num_str)\n",
        "\n",
        "    return armstrong_sum == number\n",
        "\n",
        "num = int(input(\"Enter an integer: \"))\n",
        "\n",
        "if is_armstrong(num):\n",
        "    print(f\"{num} is an Armstrong number.\")\n",
        "else:\n",
        "    print(f\"{num} is not an Armstrong number.\")"
      ],
      "metadata": {
        "colab": {
          "base_uri": "https://localhost:8080/"
        },
        "id": "Dlt3_UFmPRon",
        "outputId": "37c06594-d3fd-4d35-9b42-73536017bcae"
      },
      "execution_count": 48,
      "outputs": [
        {
          "output_type": "stream",
          "name": "stdout",
          "text": [
            "Enter an integer: 153\n",
            "153 is an Armstrong number.\n"
          ]
        }
      ]
    },
    {
      "cell_type": "code",
      "source": [
        "# Write a Python program to find all prime factors of a number.\n",
        "\n",
        "def prime_factors(number):\n",
        "    factors = []\n",
        "    divisor = 2\n",
        "    while number > 1:\n",
        "        if number % divisor == 0:\n",
        "            factors.append(divisor)\n",
        "            number //= divisor\n",
        "        else:\n",
        "            divisor += 1\n",
        "    return factors\n",
        "\n",
        "num = int(input(\"Enter a number: \"))\n",
        "\n",
        "if num > 1:\n",
        "    print(f\"Prime factors of {num} are: {prime_factors(num)}\")\n",
        "else:\n",
        "    print(\"Enter a number greater than 1.\")"
      ],
      "metadata": {
        "colab": {
          "base_uri": "https://localhost:8080/"
        },
        "id": "9Hs22w9QPki7",
        "outputId": "4ddbd1c7-3c2d-4d72-8f7f-0b1cf291ddcb"
      },
      "execution_count": 50,
      "outputs": [
        {
          "output_type": "stream",
          "name": "stdout",
          "text": [
            "Enter a number: 963\n",
            "Prime factors of 963 are: [3, 3, 107]\n"
          ]
        }
      ]
    },
    {
      "cell_type": "code",
      "source": [
        "# Write a Python program to print all perfect numbers between 1 to n.\n",
        "\n",
        "def is_perfect(number):\n",
        "    divisors = [i for i in range(1, number) if number % i == 0]\n",
        "    return sum(divisors) == number\n",
        "\n",
        "def perfect_numbers_upto(n):\n",
        "    return [i for i in range(1, n + 1) if is_perfect(i)]\n",
        "\n",
        "limit = int(input(\"Enter the upper limit (n): \"))\n",
        "\n",
        "print(f\"Perfect numbers between 1 and {limit} are: {perfect_numbers_upto(limit)}\")"
      ],
      "metadata": {
        "colab": {
          "base_uri": "https://localhost:8080/"
        },
        "id": "dxMID-oqPkfy",
        "outputId": "d70bd0c9-2055-4b76-d778-c16e8dcacfe7"
      },
      "execution_count": 51,
      "outputs": [
        {
          "output_type": "stream",
          "name": "stdout",
          "text": [
            "Enter the upper limit (n): 88\n",
            "Perfect numbers between 1 and 88 are: [6, 28]\n"
          ]
        }
      ]
    },
    {
      "cell_type": "code",
      "source": [
        "# Write a multithreading program, where one thread prints the square of a number and another thread prints the factorial of a number. Also, display the total time taken for the execution.\n",
        "\n",
        "import threading\n",
        "import time\n",
        "\n",
        "def print_square(num):\n",
        "    print(f\"Square of {num}: {num ** 2}\")\n",
        "\n",
        "def print_factorial(num):\n",
        "    factorial = 1\n",
        "    for i in range(1, num + 1):\n",
        "        factorial *= i\n",
        "    print(f\"Factorial of {num}: {factorial}\")\n",
        "\n",
        "num = int(input(\"Enter a number: \"))\n",
        "\n",
        "start_time = time.time()\n",
        "\n",
        "thread1 = threading.Thread(target=print_square, args=(num,))\n",
        "thread2 = threading.Thread(target=print_factorial, args=(num,))\n",
        "\n",
        "thread1.start()\n",
        "thread1.join()\n",
        "thread2.start()\n",
        "\n",
        "thread2.join()\n",
        "\n",
        "end_time = time.time()\n",
        "\n",
        "total_time = end_time - start_time\n",
        "print(f\"Total time taken: {total_time:.6f} seconds\")"
      ],
      "metadata": {
        "colab": {
          "base_uri": "https://localhost:8080/"
        },
        "id": "efFgoRP8PkdB",
        "outputId": "e2e5e62d-4371-48ac-d374-545eb01f36e7"
      },
      "execution_count": 54,
      "outputs": [
        {
          "output_type": "stream",
          "name": "stdout",
          "text": [
            "Enter a number: 6\n",
            "Square of 6: 36\n",
            "Factorial of 6: 720\n",
            "Total time taken: 0.003579 seconds\n"
          ]
        }
      ]
    },
    {
      "cell_type": "code",
      "source": [
        "# Print the following pattern\n",
        "# 1\n",
        "# 2 2\n",
        "# 3 3 3\n",
        "# 4 4 4 4\n",
        "# 5 5 5 5 5\n",
        "\n",
        "for i in range(1, 6):\n",
        "    print(\" \".join([str(i)] * i))"
      ],
      "metadata": {
        "colab": {
          "base_uri": "https://localhost:8080/"
        },
        "id": "rSGjF2uBPkaS",
        "outputId": "00c54c45-18d6-45a7-bc90-8d04bf7b1f24"
      },
      "execution_count": 61,
      "outputs": [
        {
          "output_type": "stream",
          "name": "stdout",
          "text": [
            "1\n",
            "2 2\n",
            "3 3 3\n",
            "4 4 4 4\n",
            "5 5 5 5 5\n"
          ]
        }
      ]
    },
    {
      "cell_type": "code",
      "source": [
        "# Print the following pattern\n",
        "# *\n",
        "# * *\n",
        "# * * *\n",
        "# * * * *\n",
        "# * * * * *\n",
        "\n",
        "for i in range(1, 6):\n",
        "    print(\"* \" * i)"
      ],
      "metadata": {
        "colab": {
          "base_uri": "https://localhost:8080/"
        },
        "id": "tyOMxdmPPkW_",
        "outputId": "4014ba0e-19e7-46f2-81a1-7ddbfa4ac30a"
      },
      "execution_count": 62,
      "outputs": [
        {
          "output_type": "stream",
          "name": "stdout",
          "text": [
            "* \n",
            "* * \n",
            "* * * \n",
            "* * * * \n",
            "* * * * * \n"
          ]
        }
      ]
    },
    {
      "cell_type": "code",
      "source": [
        "# Print the following pattern\n",
        "# 1\n",
        "# 1 2\n",
        "# 1 2 3\n",
        "# 1 2 3 4\n",
        "\n",
        "for i in range(1, 5):\n",
        "    print(\" \".join(str(x) for x in range(1, i+1)))"
      ],
      "metadata": {
        "colab": {
          "base_uri": "https://localhost:8080/"
        },
        "id": "fsDqLQGBPkUL",
        "outputId": "72c25b50-6e78-4dab-dd27-fb8883bfa4a6"
      },
      "execution_count": 63,
      "outputs": [
        {
          "output_type": "stream",
          "name": "stdout",
          "text": [
            "1\n",
            "1 2\n",
            "1 2 3\n",
            "1 2 3 4\n"
          ]
        }
      ]
    },
    {
      "cell_type": "code",
      "source": [
        "# Print the following pattern\n",
        "# 1\n",
        "# 2 3\n",
        "# 4 5 6\n",
        "# 7 8 9 10\n",
        "\n",
        "num = 1\n",
        "for i in range(1, 5):\n",
        "    print(\" \".join(str(num + x) for x in range(i)))\n",
        "    num += i"
      ],
      "metadata": {
        "colab": {
          "base_uri": "https://localhost:8080/"
        },
        "id": "NYvuQI-nPkQ6",
        "outputId": "9ab99ad4-5e20-4b7d-8a31-ff17b5f85d89"
      },
      "execution_count": 64,
      "outputs": [
        {
          "output_type": "stream",
          "name": "stdout",
          "text": [
            "1\n",
            "2 3\n",
            "4 5 6\n",
            "7 8 9 10\n"
          ]
        }
      ]
    },
    {
      "cell_type": "code",
      "source": [
        "# Print the following pattern\n",
        "# * * * * *\n",
        "# * * * *\n",
        "# * * *\n",
        "# * *\n",
        "# *\n",
        "\n",
        "for i in range(5, 0, -1):\n",
        "    print(\"* \" * i)"
      ],
      "metadata": {
        "colab": {
          "base_uri": "https://localhost:8080/"
        },
        "id": "GhOME7EEPkLf",
        "outputId": "4d71362d-a522-4e2f-b3b3-8e205d8c3650"
      },
      "execution_count": 65,
      "outputs": [
        {
          "output_type": "stream",
          "name": "stdout",
          "text": [
            "* * * * * \n",
            "* * * * \n",
            "* * * \n",
            "* * \n",
            "* \n"
          ]
        }
      ]
    },
    {
      "cell_type": "code",
      "source": [
        "# Print the following pattern\n",
        "#         *\n",
        "#       * * *\n",
        "#     * * * * *\n",
        "#   * * * * * * *\n",
        "# * * * * * * * * *\n",
        "\n",
        "for i in range(1, 6):\n",
        "    print(\"  \" * (5 - i) + \"* \" * (2 * i - 1))"
      ],
      "metadata": {
        "colab": {
          "base_uri": "https://localhost:8080/"
        },
        "id": "QgyaRwwyPkIa",
        "outputId": "01d5846c-dabe-4cff-9049-95b87f3910a7"
      },
      "execution_count": 73,
      "outputs": [
        {
          "output_type": "stream",
          "name": "stdout",
          "text": [
            "        * \n",
            "      * * * \n",
            "    * * * * * \n",
            "  * * * * * * * \n",
            "* * * * * * * * * \n"
          ]
        }
      ]
    },
    {
      "cell_type": "code",
      "source": [
        "# Write a python program example to show the working of multiple inheritance.\n",
        "\n",
        "class Animal:\n",
        "    def speak(self):\n",
        "        print(\"Animal makes a sound\")\n",
        "\n",
        "class Bird:\n",
        "    def fly(self):\n",
        "        print(\"Bird can fly\")\n",
        "\n",
        "class Sparrow(Animal, Bird):\n",
        "    def display(self):\n",
        "        print(\"Sparrow is a type of bird\")\n",
        "\n",
        "sparrow = Sparrow()\n",
        "\n",
        "sparrow.speak()\n",
        "sparrow.fly()\n",
        "sparrow.display()"
      ],
      "metadata": {
        "colab": {
          "base_uri": "https://localhost:8080/"
        },
        "id": "Rs22jU5iPkE0",
        "outputId": "78f273eb-2de2-4340-e856-d3f8f72484a8"
      },
      "execution_count": 74,
      "outputs": [
        {
          "output_type": "stream",
          "name": "stdout",
          "text": [
            "Animal makes a sound\n",
            "Bird can fly\n",
            "Sparrow is a type of bird\n"
          ]
        }
      ]
    },
    {
      "cell_type": "code",
      "source": [
        "# Print multiplication table from 1 to 10\n",
        "\n",
        "for i in range(1, 11):\n",
        "    for j in range(1, 11):\n",
        "        print(f\"{i * j}\", end=\"\\t\")\n",
        "    print()"
      ],
      "metadata": {
        "colab": {
          "base_uri": "https://localhost:8080/"
        },
        "id": "sXFsVCxtPkBV",
        "outputId": "4b459f76-59c2-40fb-dec8-537c5bf93a1f"
      },
      "execution_count": 75,
      "outputs": [
        {
          "output_type": "stream",
          "name": "stdout",
          "text": [
            "1\t2\t3\t4\t5\t6\t7\t8\t9\t10\t\n",
            "2\t4\t6\t8\t10\t12\t14\t16\t18\t20\t\n",
            "3\t6\t9\t12\t15\t18\t21\t24\t27\t30\t\n",
            "4\t8\t12\t16\t20\t24\t28\t32\t36\t40\t\n",
            "5\t10\t15\t20\t25\t30\t35\t40\t45\t50\t\n",
            "6\t12\t18\t24\t30\t36\t42\t48\t54\t60\t\n",
            "7\t14\t21\t28\t35\t42\t49\t56\t63\t70\t\n",
            "8\t16\t24\t32\t40\t48\t56\t64\t72\t80\t\n",
            "9\t18\t27\t36\t45\t54\t63\t72\t81\t90\t\n",
            "10\t20\t30\t40\t50\t60\t70\t80\t90\t100\t\n"
          ]
        }
      ]
    },
    {
      "cell_type": "code",
      "source": [
        "# Write a Python program to print even numbers in a list.\n",
        "\n",
        "numbers = [1, 2, 3, 4, 5, 6, 7, 8, 9, 10]\n",
        "\n",
        "for num in numbers:\n",
        "    if num % 2 == 0:\n",
        "        print(num)"
      ],
      "metadata": {
        "colab": {
          "base_uri": "https://localhost:8080/"
        },
        "id": "4maxS1xFPj-F",
        "outputId": "0ecd76a2-0fd6-4ef4-e08b-90b714c99aa5"
      },
      "execution_count": 76,
      "outputs": [
        {
          "output_type": "stream",
          "name": "stdout",
          "text": [
            "2\n",
            "4\n",
            "6\n",
            "8\n",
            "10\n"
          ]
        }
      ]
    },
    {
      "cell_type": "code",
      "source": [
        "# Create an inner function to calculate the addition in the following way\n",
        "# ● Create an outer function that will accept two parameters, a and b\n",
        "# ● Create an inner function inside an outer function that will calculate the addition of a and b\n",
        "# ● At last, an outer function will add 5 into addition and return it\n",
        "\n",
        "def outer_function(a, b):\n",
        "    def inner_function():\n",
        "        return a + b\n",
        "\n",
        "    return inner_function() + 5\n",
        "\n",
        "result = outer_function(3, 4)\n",
        "print(result)"
      ],
      "metadata": {
        "colab": {
          "base_uri": "https://localhost:8080/"
        },
        "id": "ddwj_SOLPj69",
        "outputId": "3dd6fcb5-e135-472c-f087-7080d72d8919"
      },
      "execution_count": 77,
      "outputs": [
        {
          "output_type": "stream",
          "name": "stdout",
          "text": [
            "12\n"
          ]
        }
      ]
    },
    {
      "cell_type": "code",
      "source": [
        "# Write a Python program to find the factors of a number using for and while loop.\n",
        "\n",
        "# Using for loop:\n",
        "def factors_for_loop(number):\n",
        "    print(f\"Factors of {number} using for loop:\")\n",
        "    for i in range(1, number + 1):\n",
        "        if number % i == 0:\n",
        "            print(i)\n",
        "\n",
        "factors_for_loop(12)\n",
        "\n",
        "# Using while loop:\n",
        "def factors_while_loop(number):\n",
        "    print(f\"Factors of {number} using while loop:\")\n",
        "    i = 1\n",
        "    while i <= number:\n",
        "        if number % i == 0:\n",
        "            print(i)\n",
        "        i += 1\n",
        "\n",
        "factors_while_loop(12)"
      ],
      "metadata": {
        "colab": {
          "base_uri": "https://localhost:8080/"
        },
        "id": "MLTqS6k4Pj46",
        "outputId": "b8354ec0-dd83-4c6c-c1e8-c7b0c3df8b88"
      },
      "execution_count": 79,
      "outputs": [
        {
          "output_type": "stream",
          "name": "stdout",
          "text": [
            "Factors of 12 using for loop:\n",
            "1\n",
            "2\n",
            "3\n",
            "4\n",
            "6\n",
            "12\n",
            "Factors of 12 using while loop:\n",
            "1\n",
            "2\n",
            "3\n",
            "4\n",
            "6\n",
            "12\n"
          ]
        }
      ]
    },
    {
      "cell_type": "code",
      "source": [
        "# Generate a Python list of all the even numbers between 1 to 50.\n",
        "\n",
        "even_numbers = [num for num in range(1, 51) if num % 2 == 0]\n",
        "print(even_numbers)"
      ],
      "metadata": {
        "colab": {
          "base_uri": "https://localhost:8080/"
        },
        "id": "sJUyB9gJPj0x",
        "outputId": "1f976448-3402-49e7-d556-136f66a8adc4"
      },
      "execution_count": 80,
      "outputs": [
        {
          "output_type": "stream",
          "name": "stdout",
          "text": [
            "[2, 4, 6, 8, 10, 12, 14, 16, 18, 20, 22, 24, 26, 28, 30, 32, 34, 36, 38, 40, 42, 44, 46, 48, 50]\n"
          ]
        }
      ]
    },
    {
      "cell_type": "code",
      "source": [
        "# Find the largest item from a given list.\n",
        "\n",
        "numbers = [12, 45, 67, 23, 89, 34]\n",
        "\n",
        "largest_item = max(numbers)\n",
        "\n",
        "print(\"The largest item in the list is:\", largest_item)"
      ],
      "metadata": {
        "colab": {
          "base_uri": "https://localhost:8080/"
        },
        "id": "EA4p1ZVdPjxq",
        "outputId": "2f217409-0684-40f0-e78c-fcc98f861060"
      },
      "execution_count": 81,
      "outputs": [
        {
          "output_type": "stream",
          "name": "stdout",
          "text": [
            "The largest item in the list is: 89\n"
          ]
        }
      ]
    },
    {
      "cell_type": "code",
      "source": [
        "# Write a python code to check if the given number is palindrome.\n",
        "\n",
        "def is_palindrome(number):\n",
        "    if str(number) == str(number)[::-1]:\n",
        "        return True\n",
        "    else:\n",
        "        return False\n",
        "\n",
        "number = 121\n",
        "if is_palindrome(number):\n",
        "    print(f\"{number} is a palindrome\")\n",
        "else:\n",
        "    print(f\"{number} is not a palindrome\")"
      ],
      "metadata": {
        "colab": {
          "base_uri": "https://localhost:8080/"
        },
        "id": "_VsU6dpCPjub",
        "outputId": "48d25b18-905d-4802-f5fd-412e12c530cd"
      },
      "execution_count": 82,
      "outputs": [
        {
          "output_type": "stream",
          "name": "stdout",
          "text": [
            "121 is a palindrome\n"
          ]
        }
      ]
    },
    {
      "cell_type": "code",
      "source": [
        "# Write a Python code to create a new list such that the latest list should contain odd numbers from the first list and even numbers from the second list.\n",
        "\n",
        "list1 = [1, 2, 3, 4, 5, 6]\n",
        "list2 = [7, 8, 9, 10, 11, 12]\n",
        "\n",
        "new_list = [num for num in list1 if num % 2 != 0] + [num for num in list2 if num % 2 == 0]\n",
        "\n",
        "print(new_list)"
      ],
      "metadata": {
        "colab": {
          "base_uri": "https://localhost:8080/"
        },
        "id": "DwWJw0uqPjoQ",
        "outputId": "27a048c3-13ba-4e27-f01f-a23c19c1b281"
      },
      "execution_count": 83,
      "outputs": [
        {
          "output_type": "stream",
          "name": "stdout",
          "text": [
            "[1, 3, 5, 8, 10, 12]\n"
          ]
        }
      ]
    },
    {
      "cell_type": "code",
      "source": [
        "# Write a Python program to return a new set with unique items from both sets by removing duplicates.\n",
        "\n",
        "set1 = {1, 2, 3, 4, 5}\n",
        "set2 = {4, 5, 6, 7, 8}\n",
        "\n",
        "unique_set = set1.union(set2)\n",
        "\n",
        "print(unique_set)"
      ],
      "metadata": {
        "colab": {
          "base_uri": "https://localhost:8080/"
        },
        "id": "6nu8oPIIPjeI",
        "outputId": "145b0852-926f-4ca4-ad4f-cd8c97f38fdd"
      },
      "execution_count": 84,
      "outputs": [
        {
          "output_type": "stream",
          "name": "stdout",
          "text": [
            "{1, 2, 3, 4, 5, 6, 7, 8}\n"
          ]
        }
      ]
    },
    {
      "cell_type": "code",
      "source": [
        "# Write a Python program to create a class representing a Circle. Include methods to calculate its area and perimeter.\n",
        "\n",
        "import math\n",
        "\n",
        "class Circle:\n",
        "    def __init__(self, radius):\n",
        "        self.radius = radius\n",
        "\n",
        "    def area(self):\n",
        "        return math.pi * (self.radius ** 2)\n",
        "\n",
        "    def perimeter(self):\n",
        "        return 2 * math.pi * self.radius\n",
        "\n",
        "circle = Circle(5)\n",
        "print(f\"Area of the circle: {circle.area():.2f}\")\n",
        "print(f\"Perimeter of the circle: {circle.perimeter():.2f}\")"
      ],
      "metadata": {
        "colab": {
          "base_uri": "https://localhost:8080/"
        },
        "id": "B9QwJDWuPjM3",
        "outputId": "26ce0b51-1391-4178-df08-b91f646b6d29"
      },
      "execution_count": 85,
      "outputs": [
        {
          "output_type": "stream",
          "name": "stdout",
          "text": [
            "Area of the circle: 78.54\n",
            "Perimeter of the circle: 31.42\n"
          ]
        }
      ]
    },
    {
      "cell_type": "code",
      "source": [
        "# Write a Python program to create a person class. Include attributes like name, country, and date of birth. Implement a method to determine the person's age.\n",
        "\n",
        "from datetime import datetime\n",
        "\n",
        "class Person:\n",
        "    def __init__(self, name, country, date_of_birth):\n",
        "        self.name = name\n",
        "        self.country = country\n",
        "        self.date_of_birth = datetime.strptime(date_of_birth, \"%Y-%m-%d\")\n",
        "\n",
        "    def calculate_age(self):\n",
        "        today = datetime.today()\n",
        "        age = today.year - self.date_of_birth.year\n",
        "        if today.month < self.date_of_birth.month or (today.month == self.date_of_birth.month and today.day < self.date_of_birth.day):\n",
        "            age -= 1\n",
        "        return age\n",
        "\n",
        "person = Person(\"John Doe\", \"USA\", \"1990-05-15\")\n",
        "print(f\"{person.name} from {person.country} is {person.calculate_age()} years old.\")"
      ],
      "metadata": {
        "colab": {
          "base_uri": "https://localhost:8080/"
        },
        "id": "gBpJ8-BLWc1D",
        "outputId": "1e47a30a-1417-433c-ad54-c0055c4cbcdd"
      },
      "execution_count": 86,
      "outputs": [
        {
          "output_type": "stream",
          "name": "stdout",
          "text": [
            "John Doe from USA is 34 years old.\n"
          ]
        }
      ]
    },
    {
      "cell_type": "code",
      "source": [
        "# Write a Python program to create a class representing a bank. Include methods for managing customer accounts and transactions.\n",
        "\n",
        "class Bank:\n",
        "    def __init__(self):\n",
        "        self.accounts = {}\n",
        "\n",
        "    def create_account(self, customer_name, initial_balance):\n",
        "        if customer_name in self.accounts:\n",
        "            print(f\"Account for {customer_name} already exists.\")\n",
        "        else:\n",
        "            self.accounts[customer_name] = initial_balance\n",
        "            print(f\"Account created for {customer_name} with balance {initial_balance}\")\n",
        "\n",
        "    def deposit(self, customer_name, amount):\n",
        "        if customer_name in self.accounts:\n",
        "            self.accounts[customer_name] += amount\n",
        "            print(f\"Deposited {amount} to {customer_name}'s account.\")\n",
        "        else:\n",
        "            print(f\"Account for {customer_name} does not exist.\")\n",
        "\n",
        "    def withdraw(self, customer_name, amount):\n",
        "        if customer_name in self.accounts:\n",
        "            if self.accounts[customer_name] >= amount:\n",
        "                self.accounts[customer_name] -= amount\n",
        "                print(f\"Withdrew {amount} from {customer_name}'s account.\")\n",
        "            else:\n",
        "                print(f\"Insufficient balance in {customer_name}'s account.\")\n",
        "        else:\n",
        "            print(f\"Account for {customer_name} does not exist.\")\n",
        "\n",
        "    def check_balance(self, customer_name):\n",
        "        if customer_name in self.accounts:\n",
        "            print(f\"{customer_name}'s balance is {self.accounts[customer_name]}\")\n",
        "        else:\n",
        "            print(f\"Account for {customer_name} does not exist.\")\n",
        "\n",
        "\n",
        "bank = Bank()\n",
        "\n",
        "bank.create_account(\"Alice\", 500)\n",
        "bank.create_account(\"Bob\", 1000)\n",
        "\n",
        "bank.deposit(\"Alice\", 200)\n",
        "bank.withdraw(\"Bob\", 500)\n",
        "\n",
        "bank.check_balance(\"Alice\")\n",
        "bank.check_balance(\"Bob\")"
      ],
      "metadata": {
        "colab": {
          "base_uri": "https://localhost:8080/"
        },
        "id": "u9XAgA63WcyD",
        "outputId": "87ab59c6-8a97-421b-8ebc-5778924d0b0f"
      },
      "execution_count": 87,
      "outputs": [
        {
          "output_type": "stream",
          "name": "stdout",
          "text": [
            "Account created for Alice with balance 500\n",
            "Account created for Bob with balance 1000\n",
            "Deposited 200 to Alice's account.\n",
            "Withdrew 500 from Bob's account.\n",
            "Alice's balance is 700\n",
            "Bob's balance is 500\n"
          ]
        }
      ]
    },
    {
      "cell_type": "code",
      "source": [
        "# Create a class called, library with data attributes like Acc-number publisher, title, and author, the methods of the class should include\n",
        "# ● Read ( ) - Acc- number, title, author, publisher.\n",
        "# ● Compute ( ) - to accept the number of days late, calculate and display the fine charged at the rate of Rupees 5/- per day.\n",
        "# ● Display the data.\n",
        "\n",
        "class Library:\n",
        "    def __init__(self):\n",
        "        self.acc_number = \"\"\n",
        "        self.publisher = \"\"\n",
        "        self.title = \"\"\n",
        "        self.author = \"\"\n",
        "\n",
        "    def read(self):\n",
        "        self.acc_number = input(\"Enter Acc-Number: \")\n",
        "        self.title = input(\"Enter Book Title: \")\n",
        "        self.author = input(\"Enter Author Name: \")\n",
        "        self.publisher = input(\"Enter Publisher Name: \")\n",
        "\n",
        "    def compute(self, days_late):\n",
        "        fine = days_late * 5\n",
        "        return fine\n",
        "\n",
        "    def display(self):\n",
        "        print(f\"\\nBook Details:\")\n",
        "        print(f\"Acc-Number: {self.acc_number}\")\n",
        "        print(f\"Title: {self.title}\")\n",
        "        print(f\"Author: {self.author}\")\n",
        "        print(f\"Publisher: {self.publisher}\")\n",
        "\n",
        "library = Library()\n",
        "\n",
        "library.read()\n",
        "\n",
        "days_late = int(input(\"\\nEnter the number of days late: \"))\n",
        "fine = library.compute(days_late)\n",
        "\n",
        "library.display()\n",
        "\n",
        "print(f\"\\nFine charged for {days_late} days late: Rs. {fine}\")"
      ],
      "metadata": {
        "colab": {
          "base_uri": "https://localhost:8080/"
        },
        "id": "-hAdE75WWcvU",
        "outputId": "f9ac168f-5c7f-4148-9e47-91832a2b0ae0"
      },
      "execution_count": 88,
      "outputs": [
        {
          "output_type": "stream",
          "name": "stdout",
          "text": [
            "Enter Acc-Number: 12345\n",
            "Enter Book Title: Python Programming\n",
            "Enter Author Name: John Doe\n",
            "Enter Publisher Name: TechBooks\n",
            "\n",
            "Enter the number of days late: 3\n",
            "\n",
            "Book Details:\n",
            "Acc-Number: 12345\n",
            "Title: Python Programming\n",
            "Author: John Doe\n",
            "Publisher: TechBooks\n",
            "\n",
            "Fine charged for 3 days late: Rs. 15\n"
          ]
        }
      ]
    },
    {
      "cell_type": "code",
      "source": [
        "# Write a Python program to demonstrate a parameterized constructor.\n",
        "\n",
        "class Person:\n",
        "    def __init__(self, name, age):\n",
        "        self.name = name\n",
        "        self.age = age\n",
        "\n",
        "    def display(self):\n",
        "        print(f\"Name: {self.name}\")\n",
        "        print(f\"Age: {self.age}\")\n",
        "\n",
        "person1 = Person(\"Alice\", 25)\n",
        "person2 = Person(\"Bob\", 30)\n",
        "\n",
        "person1.display()\n",
        "person2.display()"
      ],
      "metadata": {
        "colab": {
          "base_uri": "https://localhost:8080/"
        },
        "id": "mILbRw9tWcsd",
        "outputId": "312d0a86-016e-469d-bd46-7db86edc89f5"
      },
      "execution_count": 89,
      "outputs": [
        {
          "output_type": "stream",
          "name": "stdout",
          "text": [
            "Name: Alice\n",
            "Age: 25\n",
            "Name: Bob\n",
            "Age: 30\n"
          ]
        }
      ]
    },
    {
      "cell_type": "code",
      "source": [
        "# Demonstrate crud operation using python MongoDB.\n",
        "\n",
        "from pymongo import MongoClient\n",
        "\n",
        "client = MongoClient(\"mongodb://localhost:27017/\")\n",
        "db = client[\"library\"]\n",
        "collection = db[\"books\"]\n",
        "\n",
        "def create_book():\n",
        "    book = {\n",
        "        \"title\": \"Python Programming\",\n",
        "        \"author\": \"John Doe\",\n",
        "        \"publisher\": \"TechBooks\",\n",
        "        \"year\": 2020\n",
        "    }\n",
        "    result = collection.insert_one(book)\n",
        "    print(f\"Book inserted with ID: {result.inserted_id}\")\n",
        "\n",
        "def read_books():\n",
        "    books = collection.find()\n",
        "    for book in books:\n",
        "        print(book)\n",
        "\n",
        "def update_book():\n",
        "    query = {\"title\": \"Python Programming\"}\n",
        "    new_values = {\"$set\": {\"year\": 2021}}\n",
        "    result = collection.update_one(query, new_values)\n",
        "    print(f\"Matched {result.matched_count} document(s) and modified {result.modified_count} document(s).\")\n",
        "\n",
        "def delete_book():\n",
        "    query = {\"title\": \"Python Programming\"}\n",
        "    result = collection.delete_one(query)\n",
        "    print(f\"Deleted {result.deleted_count} document(s).\")\n",
        "\n",
        "print(\"Create Operation:\")\n",
        "create_book()\n",
        "\n",
        "print(\"\\nRead Operation:\")\n",
        "read_books()\n",
        "\n",
        "print(\"\\nUpdate Operation:\")\n",
        "update_book()\n",
        "\n",
        "print(\"\\nRead Operation After Update:\")\n",
        "read_books()\n",
        "\n",
        "print(\"\\nDelete Operation:\")\n",
        "delete_book()\n",
        "\n",
        "print(\"\\nRead Operation After Delete:\")\n",
        "read_books()"
      ],
      "metadata": {
        "id": "KNYbOTlbWcm8"
      },
      "execution_count": null,
      "outputs": []
    },
    {
      "cell_type": "code",
      "source": [
        "# Write a Python program to create an “employee” collection with fields” (ID, name, address, phone, email, and dept) in MongoDB.\n",
        "# Perform the following operations:\n",
        "# ● Display all employees in the “Accounts” department\n",
        "# ● Delete employee with ID – 210345\n",
        "# ● Update phone with a new phone for employee ID- 123\n",
        "\n",
        "from pymongo import MongoClient\n",
        "\n",
        "client = MongoClient(\"mongodb://localhost:27017/\")\n",
        "db = client[\"company_db\"]\n",
        "collection = db[\"employee\"]\n",
        "\n",
        "def display_accounts_department():\n",
        "    print(\"Employees in the Accounts department:\")\n",
        "    accounts_employees = collection.find({\"dept\": \"Accounts\"})\n",
        "    for employee in accounts_employees:\n",
        "        print(employee)\n",
        "\n",
        "def delete_employee_by_id(employee_id):\n",
        "    result = collection.delete_one({\"ID\": employee_id})\n",
        "    if result.deleted_count > 0:\n",
        "        print(f\"Employee with ID {employee_id} has been deleted.\")\n",
        "    else:\n",
        "        print(f\"Employee with ID {employee_id} not found.\")\n",
        "\n",
        "def update_phone_for_employee(employee_id, new_phone):\n",
        "    result = collection.update_one({\"ID\": employee_id}, {\"$set\": {\"phone\": new_phone}})\n",
        "    if result.modified_count > 0:\n",
        "        print(f\"Phone number for employee with ID {employee_id} has been updated.\")\n",
        "    else:\n",
        "        print(f\"Employee with ID {employee_id} not found or phone number is the same.\")\n",
        "\n",
        "if __name__ == \"__main__\":\n",
        "    display_accounts_department()\n",
        "\n",
        "    delete_employee_by_id(210345)\n",
        "\n",
        "    update_phone_for_employee(123, \"9876543210\")"
      ],
      "metadata": {
        "id": "TYcUWNdpWcjL"
      },
      "execution_count": null,
      "outputs": []
    },
    {
      "cell_type": "code",
      "source": [
        "# Write a Python program to perform the following operations on MongoDB Database.\n",
        "# ● Create collection “EMP” with fields: Emp-name, Empmobile, Emp, sal, Age\n",
        "# ● Insert 5 documents.\n",
        "# ● Find the employees getting salaries between 5000 to 10000.\n",
        "# ● Update the mobile number for the employee named as “Riddhi”\n",
        "# ● Display all employees in the order of “Age”\n",
        "\n",
        "from pymongo import MongoClient\n",
        "\n",
        "client = MongoClient(\"mongodb://localhost:27017/\")\n",
        "\n",
        "db = client[\"EmployeeDB\"]\n",
        "\n",
        "collection = db[\"EMP\"]\n",
        "\n",
        "employees = [\n",
        "    {\"Emp-name\": \"Riddhi\", \"Empmobile\": \"1234567890\", \"Emp\": \"Manager\", \"sal\": 7500, \"Age\": 30},\n",
        "    {\"Emp-name\": \"Amit\", \"Empmobile\": \"0987654321\", \"Emp\": \"Developer\", \"sal\": 6000, \"Age\": 25},\n",
        "    {\"Emp-name\": \"Sonal\", \"Empmobile\": \"1122334455\", \"Emp\": \"Tester\", \"sal\": 9000, \"Age\": 28},\n",
        "    {\"Emp-name\": \"Pooja\", \"Empmobile\": \"6677889900\", \"Emp\": \"HR\", \"sal\": 9500, \"Age\": 35},\n",
        "    {\"Emp-name\": \"Vikram\", \"Empmobile\": \"5566778899\", \"Emp\": \"Developer\", \"sal\": 8000, \"Age\": 27}\n",
        "]\n",
        "\n",
        "collection.insert_many(employees)\n",
        "\n",
        "salary_range_employees = collection.find({\"sal\": {\"$gte\": 5000, \"$lte\": 10000}})\n",
        "print(\"Employees with salaries between 5000 and 10000:\")\n",
        "for emp in salary_range_employees:\n",
        "    print(emp)\n",
        "\n",
        "collection.update_one(\n",
        "    {\"Emp-name\": \"Riddhi\"},\n",
        "    {\"$set\": {\"Empmobile\": \"9998887777\"}}\n",
        ")\n",
        "\n",
        "age_ordered_employees = collection.find().sort(\"Age\")\n",
        "print(\"\\nAll employees in the order of Age:\")\n",
        "for emp in age_ordered_employees:\n",
        "    print(emp)"
      ],
      "metadata": {
        "id": "iZ2QY_i2aPTK"
      },
      "execution_count": null,
      "outputs": []
    },
    {
      "cell_type": "code",
      "source": [],
      "metadata": {
        "id": "KC7ecGxLdJr_"
      },
      "execution_count": null,
      "outputs": []
    }
  ]
}